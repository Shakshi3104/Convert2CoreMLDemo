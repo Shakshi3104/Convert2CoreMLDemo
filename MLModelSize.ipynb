{
 "cells": [
  {
   "cell_type": "code",
   "execution_count": 1,
   "id": "2fd788b9-7be8-4e72-9ae5-3920523ffcfa",
   "metadata": {},
   "outputs": [],
   "source": [
    "import coremltools as ct"
   ]
  },
  {
   "cell_type": "code",
   "execution_count": 2,
   "id": "7ae92f57-1be0-457c-b195-f4eecdddb3b6",
   "metadata": {},
   "outputs": [],
   "source": [
    "from tensorflow.keras.applications import vgg16, vgg19, densenet, efficientnet, inception_resnet_v2, inception_v3, mobilenet\n",
    "from tensorflow.keras.applications import mobilenet_v2, nasnet, resnet, resnet_v2, xception"
   ]
  },
  {
   "cell_type": "code",
   "execution_count": 3,
   "id": "43064af7",
   "metadata": {},
   "outputs": [],
   "source": [
    "import os\n",
    "import pandas as pd"
   ]
  },
  {
   "cell_type": "code",
   "execution_count": 4,
   "id": "e7e983c9-d791-417d-826f-451d22ebcee6",
   "metadata": {},
   "outputs": [],
   "source": [
    "models = {\n",
    "    \"VGG16\": vgg16.VGG16(),\n",
    "    \"VGG19\": vgg19.VGG19(),\n",
    "    \"DenseNet121\": densenet.DenseNet121(),\n",
    "    \"DenseNet169\": densenet.DenseNet169(),\n",
    "    \"DenseNet201\": densenet.DenseNet201(),\n",
    "    \"EfficientNetB0\": efficientnet.EfficientNetB0(),\n",
    "    \"EfficientNetB1\": efficientnet.EfficientNetB1(),\n",
    "    \"EfficientNetB2\": efficientnet.EfficientNetB2(),\n",
    "    \"EfficientNetB3\": efficientnet.EfficientNetB3(),\n",
    "    \"EfficientNetB4\": efficientnet.EfficientNetB4(),\n",
    "    \"EfficientNetB5\": efficientnet.EfficientNetB5(),\n",
    "    \"EfficientNetB6\": efficientnet.EfficientNetB6(),\n",
    "    \"EfficientNetB7\": efficientnet.EfficientNetB7(),\n",
    "    \"Inception-ResNet v2\": inception_resnet_v2.InceptionResNetV2(),\n",
    "    \"Inception v3\": inception_v3.InceptionV3(),\n",
    "    \"MobileNet\": mobilenet.MobileNet(),\n",
    "    \"MobileNetV2\": mobilenet_v2.MobileNetV2(),\n",
    "    \"NASNet\": nasnet.NASNetLarge(),\n",
    "    \"Mobile NASNet\": nasnet.NASNetMobile(),\n",
    "    \"ResNet50\": resnet.ResNet50(),\n",
    "    \"ResNet101\": resnet.ResNet101(),\n",
    "    \"ResNet152\": resnet.ResNet152(),\n",
    "    \"ResNet50V2\": resnet_v2.ResNet50V2(),\n",
    "    \"ResNet101V2\": resnet_v2.ResNet101V2(),\n",
    "    \"ResNet152V2\": resnet_v2.ResNet152V2(),\n",
    "    \"Xception\": xception.Xception(),\n",
    "}"
   ]
  },
  {
   "cell_type": "code",
   "execution_count": 7,
   "id": "60434c49-1484-47d1-9a07-877d5447cb5d",
   "metadata": {},
   "outputs": [
    {
     "name": "stdout",
     "output_type": "stream",
     "text": [
      "VGG16\n"
     ]
    },
    {
     "name": "stderr",
     "output_type": "stream",
     "text": [
      "Running TensorFlow Graph Passes: 100%|██████████| 5/5 [00:13<00:00,  2.67s/ passes]\n",
      "Converting Frontend ==> MIL Ops: 100%|██████████| 89/89 [00:00<00:00, 153.89 ops/s]\n",
      "Running MIL optimization passes: 100%|██████████| 18/18 [00:00<00:00, 21.47 passes/s]\n",
      "Translating MIL ==> MLModel Ops: 100%|██████████| 159/159 [00:16<00:00,  9.88 ops/s] \n"
     ]
    },
    {
     "name": "stdout",
     "output_type": "stream",
     "text": [
      "138357544\n",
      "23\n",
      "553434241\n",
      "VGG19\n"
     ]
    },
    {
     "name": "stderr",
     "output_type": "stream",
     "text": [
      "Running TensorFlow Graph Passes: 100%|██████████| 5/5 [00:13<00:00,  2.76s/ passes]\n",
      "Converting Frontend ==> MIL Ops: 100%|██████████| 104/104 [00:00<00:00, 179.31 ops/s]\n",
      "Running MIL optimization passes: 100%|██████████| 18/18 [00:00<00:00, 20.09 passes/s]\n",
      "Translating MIL ==> MLModel Ops: 100%|██████████| 186/186 [00:18<00:00, 10.13 ops/s] \n"
     ]
    },
    {
     "name": "stdout",
     "output_type": "stream",
     "text": [
      "143667240\n",
      "26\n",
      "574673712\n",
      "DenseNet121\n"
     ]
    },
    {
     "name": "stderr",
     "output_type": "stream",
     "text": [
      "Running TensorFlow Graph Passes: 100%|██████████| 5/5 [00:02<00:00,  2.12 passes/s]\n",
      "Converting Frontend ==> MIL Ops: 100%|██████████| 1099/1099 [00:04<00:00, 271.86 ops/s]\n",
      "Running MIL optimization passes: 100%|██████████| 18/18 [00:03<00:00,  5.12 passes/s]\n",
      "Translating MIL ==> MLModel Ops: 100%|██████████| 1902/1902 [00:00<00:00, 1914.43 ops/s]\n"
     ]
    },
    {
     "name": "stdout",
     "output_type": "stream",
     "text": [
      "8062504\n",
      "429\n",
      "32306254\n",
      "DenseNet169\n"
     ]
    },
    {
     "name": "stderr",
     "output_type": "stream",
     "text": [
      "Running TensorFlow Graph Passes: 100%|██████████| 5/5 [00:02<00:00,  1.71 passes/s]\n",
      "Converting Frontend ==> MIL Ops: 100%|██████████| 1531/1531 [00:07<00:00, 194.86 ops/s]\n",
      "Running MIL optimization passes: 100%|██████████| 18/18 [00:06<00:00,  2.96 passes/s]\n",
      "Translating MIL ==> MLModel Ops: 100%|██████████| 2646/2646 [00:01<00:00, 1454.39 ops/s]\n"
     ]
    },
    {
     "name": "stdout",
     "output_type": "stream",
     "text": [
      "14307880\n",
      "597\n",
      "57310776\n",
      "DenseNet201\n"
     ]
    },
    {
     "name": "stderr",
     "output_type": "stream",
     "text": [
      "Running TensorFlow Graph Passes: 100%|██████████| 5/5 [00:03<00:00,  1.46 passes/s]\n",
      "Converting Frontend ==> MIL Ops: 100%|██████████| 1819/1819 [00:10<00:00, 168.92 ops/s] \n",
      "Running MIL optimization passes: 100%|██████████| 18/18 [00:08<00:00,  2.01 passes/s]\n",
      "Translating MIL ==> MLModel Ops: 100%|██████████| 3142/3142 [00:02<00:00, 1293.01 ops/s] \n"
     ]
    },
    {
     "name": "stdout",
     "output_type": "stream",
     "text": [
      "20242984\n",
      "709\n",
      "81066328\n",
      "EfficientNetB0\n"
     ]
    },
    {
     "name": "stderr",
     "output_type": "stream",
     "text": [
      "Running TensorFlow Graph Passes: 100%|██████████| 5/5 [00:01<00:00,  2.61 passes/s]\n",
      "Converting Frontend ==> MIL Ops: 100%|██████████| 827/827 [00:01<00:00, 458.63 ops/s] \n",
      "Running MIL optimization passes: 100%|██████████| 18/18 [00:01<00:00,  9.08 passes/s]\n",
      "Translating MIL ==> MLModel Ops: 100%|██████████| 1216/1216 [00:00<00:00, 1843.12 ops/s]\n"
     ]
    },
    {
     "name": "stdout",
     "output_type": "stream",
     "text": [
      "5330571\n",
      "240\n",
      "21369086\n",
      "EfficientNetB1\n"
     ]
    },
    {
     "name": "stderr",
     "output_type": "stream",
     "text": [
      "Running TensorFlow Graph Passes: 100%|██████████| 5/5 [00:02<00:00,  2.32 passes/s]\n",
      "Converting Frontend ==> MIL Ops: 100%|██████████| 1168/1168 [00:03<00:00, 316.08 ops/s]\n",
      "Running MIL optimization passes: 100%|██████████| 18/18 [00:03<00:00,  5.07 passes/s]\n",
      "Translating MIL ==> MLModel Ops: 100%|██████████| 1712/1712 [00:00<00:00, 1839.61 ops/s] \n"
     ]
    },
    {
     "name": "stdout",
     "output_type": "stream",
     "text": [
      "7856239\n",
      "342\n",
      "31491179\n",
      "EfficientNetB2\n"
     ]
    },
    {
     "name": "stderr",
     "output_type": "stream",
     "text": [
      "Running TensorFlow Graph Passes: 100%|██████████| 5/5 [00:02<00:00,  2.13 passes/s]\n",
      "Converting Frontend ==> MIL Ops: 100%|██████████| 1168/1168 [00:03<00:00, 313.56 ops/s]\n",
      "Running MIL optimization passes: 100%|██████████| 18/18 [00:04<00:00,  4.22 passes/s]\n",
      "Translating MIL ==> MLModel Ops: 100%|██████████| 1712/1712 [00:01<00:00, 1545.29 ops/s] \n"
     ]
    },
    {
     "name": "stdout",
     "output_type": "stream",
     "text": [
      "9177569\n",
      "342\n",
      "36776509\n",
      "EfficientNetB3\n"
     ]
    },
    {
     "name": "stderr",
     "output_type": "stream",
     "text": [
      "Running TensorFlow Graph Passes: 100%|██████████| 5/5 [00:02<00:00,  1.83 passes/s]\n",
      "Converting Frontend ==> MIL Ops: 100%|██████████| 1318/1318 [00:05<00:00, 230.66 ops/s]\n",
      "Running MIL optimization passes: 100%|██████████| 18/18 [00:05<00:00,  3.32 passes/s]\n",
      "Translating MIL ==> MLModel Ops: 100%|██████████| 1931/1931 [00:01<00:00, 1247.96 ops/s]\n"
     ]
    },
    {
     "name": "stdout",
     "output_type": "stream",
     "text": [
      "12320535\n",
      "387\n",
      "49357064\n",
      "EfficientNetB4\n"
     ]
    },
    {
     "name": "stderr",
     "output_type": "stream",
     "text": [
      "Running TensorFlow Graph Passes: 100%|██████████| 5/5 [00:03<00:00,  1.48 passes/s]\n",
      "Converting Frontend ==> MIL Ops: 100%|██████████| 1618/1618 [00:07<00:00, 220.01 ops/s]\n",
      "Running MIL optimization passes: 100%|██████████| 18/18 [00:06<00:00,  2.60 passes/s]\n",
      "Translating MIL ==> MLModel Ops: 100%|██████████| 2369/2369 [00:02<00:00, 1063.59 ops/s] \n"
     ]
    },
    {
     "name": "stdout",
     "output_type": "stream",
     "text": [
      "19466823\n",
      "477\n",
      "77959441\n",
      "EfficientNetB5\n"
     ]
    },
    {
     "name": "stderr",
     "output_type": "stream",
     "text": [
      "Running TensorFlow Graph Passes: 100%|██████████| 5/5 [00:04<00:00,  1.15 passes/s]\n",
      "Converting Frontend ==> MIL Ops: 100%|██████████| 1959/1959 [00:11<00:00, 174.02 ops/s]\n",
      "Running MIL optimization passes: 100%|██████████| 18/18 [00:10<00:00,  1.74 passes/s]\n",
      "Translating MIL ==> MLModel Ops: 100%|██████████| 2865/2865 [00:03<00:00, 848.57 ops/s]  \n"
     ]
    },
    {
     "name": "stdout",
     "output_type": "stream",
     "text": [
      "30562527\n",
      "579\n",
      "122361839\n",
      "EfficientNetB6\n"
     ]
    },
    {
     "name": "stderr",
     "output_type": "stream",
     "text": [
      "Running TensorFlow Graph Passes: 100%|██████████| 5/5 [00:05<00:00,  1.11s/ passes]\n",
      "Converting Frontend ==> MIL Ops: 100%|██████████| 2259/2259 [00:15<00:00, 141.48 ops/s] \n",
      "Running MIL optimization passes: 100%|██████████| 18/18 [00:14<00:00,  1.28 passes/s]\n",
      "Translating MIL ==> MLModel Ops: 100%|██████████| 3303/3303 [00:05<00:00, 649.51 ops/s]  \n"
     ]
    },
    {
     "name": "stdout",
     "output_type": "stream",
     "text": [
      "43265143\n",
      "669\n",
      "173189944\n",
      "EfficientNetB7\n"
     ]
    },
    {
     "name": "stderr",
     "output_type": "stream",
     "text": [
      "Running TensorFlow Graph Passes: 100%|██████████| 5/5 [00:07<00:00,  1.57s/ passes]\n",
      "Converting Frontend ==> MIL Ops: 100%|██████████| 2750/2750 [00:26<00:00, 102.76 ops/s] \n",
      "Running MIL optimization passes: 100%|██████████| 18/18 [00:19<00:00,  1.07s/ passes]\n",
      "Translating MIL ==> MLModel Ops: 100%|██████████| 4018/4018 [00:06<00:00, 575.48 ops/s]  \n"
     ]
    },
    {
     "name": "stdout",
     "output_type": "stream",
     "text": [
      "66658687\n",
      "816\n",
      "266792481\n",
      "Inception-ResNet v2\n"
     ]
    },
    {
     "name": "stderr",
     "output_type": "stream",
     "text": [
      "Running TensorFlow Graph Passes: 100%|██████████| 5/5 [00:06<00:00,  1.30s/ passes]\n",
      "Converting Frontend ==> MIL Ops: 100%|██████████| 2049/2049 [00:14<00:00, 138.41 ops/s] \n",
      "Running MIL optimization passes: 100%|██████████| 18/18 [00:12<00:00,  1.48 passes/s]\n",
      "Translating MIL ==> MLModel Ops: 100%|██████████| 3498/3498 [00:06<00:00, 553.57 ops/s]  \n"
     ]
    },
    {
     "name": "stdout",
     "output_type": "stream",
     "text": [
      "55873736\n",
      "782\n",
      "223726118\n",
      "Inception v3\n"
     ]
    },
    {
     "name": "stderr",
     "output_type": "stream",
     "text": [
      "Running TensorFlow Graph Passes: 100%|██████████| 5/5 [00:03<00:00,  1.35 passes/s]\n",
      "Converting Frontend ==> MIL Ops: 100%|██████████| 796/796 [00:02<00:00, 366.07 ops/s] \n",
      "Running MIL optimization passes: 100%|██████████| 18/18 [00:01<00:00,  9.12 passes/s]\n",
      "Translating MIL ==> MLModel Ops: 100%|██████████| 1433/1433 [00:02<00:00, 535.09 ops/s]\n"
     ]
    },
    {
     "name": "stdout",
     "output_type": "stream",
     "text": [
      "23851784\n",
      "313\n",
      "95511761\n",
      "MobileNet\n"
     ]
    },
    {
     "name": "stderr",
     "output_type": "stream",
     "text": [
      "Running TensorFlow Graph Passes: 100%|██████████| 5/5 [00:02<00:00,  2.45 passes/s]\n",
      "Converting Frontend ==> MIL Ops: 100%|██████████| 253/253 [00:00<00:00, 867.23 ops/s] \n",
      "Running MIL optimization passes: 100%|██████████| 18/18 [00:00<00:00, 55.63 passes/s]\n",
      "Translating MIL ==> MLModel Ops: 100%|██████████| 422/422 [00:00<00:00, 846.20 ops/s] \n"
     ]
    },
    {
     "name": "stdout",
     "output_type": "stream",
     "text": [
      "4253864\n",
      "93\n",
      "17042770\n",
      "MobileNetV2\n"
     ]
    },
    {
     "name": "stderr",
     "output_type": "stream",
     "text": [
      "Running TensorFlow Graph Passes: 100%|██████████| 5/5 [00:02<00:00,  2.47 passes/s]\n",
      "Converting Frontend ==> MIL Ops: 100%|██████████| 428/428 [00:00<00:00, 586.92 ops/s] \n",
      "Running MIL optimization passes: 100%|██████████| 18/18 [00:00<00:00, 25.36 passes/s]\n",
      "Translating MIL ==> MLModel Ops: 100%|██████████| 751/751 [00:00<00:00, 1897.70 ops/s]\n"
     ]
    },
    {
     "name": "stdout",
     "output_type": "stream",
     "text": [
      "3538984\n",
      "157\n",
      "14200542\n",
      "NASNet\n"
     ]
    },
    {
     "name": "stderr",
     "output_type": "stream",
     "text": [
      "Running TensorFlow Graph Passes: 100%|██████████| 5/5 [00:09<00:00,  1.99s/ passes]\n",
      "Converting Frontend ==> MIL Ops: 100%|██████████| 2873/2873 [00:57<00:00, 49.84 ops/s]  \n",
      "Running MIL optimization passes: 100%|██████████| 18/18 [00:43<00:00,  2.43s/ passes]\n",
      "Translating MIL ==> MLModel Ops: 100%|██████████| 6062/6062 [00:10<00:00, 602.32 ops/s]  \n"
     ]
    },
    {
     "name": "stdout",
     "output_type": "stream",
     "text": [
      "88949818\n",
      "1041\n",
      "355987198\n",
      "Mobile NASNet\n"
     ]
    },
    {
     "name": "stderr",
     "output_type": "stream",
     "text": [
      "Running TensorFlow Graph Passes: 100%|██████████| 5/5 [00:02<00:00,  2.04 passes/s]\n",
      "Converting Frontend ==> MIL Ops: 100%|██████████| 2117/2117 [00:28<00:00, 73.75 ops/s]  \n",
      "Running MIL optimization passes: 100%|██████████| 18/18 [00:23<00:00,  1.31s/ passes]\n",
      "Translating MIL ==> MLModel Ops: 100%|██████████| 4478/4478 [00:00<00:00, 6650.65 ops/s] \n"
     ]
    },
    {
     "name": "stdout",
     "output_type": "stream",
     "text": [
      "5326716\n",
      "771\n",
      "21444223\n",
      "ResNet50\n"
     ]
    },
    {
     "name": "stderr",
     "output_type": "stream",
     "text": [
      "Running TensorFlow Graph Passes: 100%|██████████| 5/5 [00:03<00:00,  1.33 passes/s]\n",
      "Converting Frontend ==> MIL Ops: 100%|██████████| 452/452 [00:00<00:00, 592.20 ops/s] \n",
      "Running MIL optimization passes: 100%|██████████| 18/18 [00:00<00:00, 22.03 passes/s]\n",
      "Translating MIL ==> MLModel Ops: 100%|██████████| 778/778 [00:02<00:00, 281.87 ops/s] \n"
     ]
    },
    {
     "name": "stdout",
     "output_type": "stream",
     "text": [
      "25636712\n",
      "177\n",
      "102462558\n",
      "ResNet101\n"
     ]
    },
    {
     "name": "stderr",
     "output_type": "stream",
     "text": [
      "Running TensorFlow Graph Passes: 100%|██████████| 5/5 [00:05<00:00,  1.10s/ passes]\n",
      "Converting Frontend ==> MIL Ops: 100%|██████████| 875/875 [00:02<00:00, 349.72 ops/s] \n",
      "Running MIL optimization passes: 100%|██████████| 18/18 [00:02<00:00,  7.85 passes/s]\n",
      "Translating MIL ==> MLModel Ops: 100%|██████████| 1508/1508 [00:05<00:00, 293.70 ops/s]\n"
     ]
    },
    {
     "name": "stdout",
     "output_type": "stream",
     "text": [
      "44707176\n",
      "347\n",
      "178661637\n",
      "ResNet152\n"
     ]
    },
    {
     "name": "stderr",
     "output_type": "stream",
     "text": [
      "Running TensorFlow Graph Passes: 100%|██████████| 5/5 [00:06<00:00,  1.37s/ passes]\n",
      "Converting Frontend ==> MIL Ops: 100%|██████████| 1300/1300 [00:05<00:00, 237.80 ops/s]\n",
      "Running MIL optimization passes: 100%|██████████| 18/18 [00:04<00:00,  3.79 passes/s]\n",
      "Translating MIL ==> MLModel Ops: 100%|██████████| 2239/2239 [00:06<00:00, 350.58 ops/s]\n"
     ]
    },
    {
     "name": "stdout",
     "output_type": "stream",
     "text": [
      "60419944\n",
      "517\n",
      "241442061\n",
      "ResNet50V2\n"
     ]
    },
    {
     "name": "stderr",
     "output_type": "stream",
     "text": [
      "Running TensorFlow Graph Passes: 100%|██████████| 5/5 [00:03<00:00,  1.32 passes/s]\n",
      "Converting Frontend ==> MIL Ops: 100%|██████████| 507/507 [00:00<00:00, 584.61 ops/s] \n",
      "Running MIL optimization passes: 100%|██████████| 18/18 [00:01<00:00, 16.83 passes/s]\n",
      "Translating MIL ==> MLModel Ops: 100%|██████████| 853/853 [00:03<00:00, 283.92 ops/s] \n"
     ]
    },
    {
     "name": "stdout",
     "output_type": "stream",
     "text": [
      "25613800\n",
      "192\n",
      "102479000\n",
      "ResNet101V2\n"
     ]
    },
    {
     "name": "stderr",
     "output_type": "stream",
     "text": [
      "Running TensorFlow Graph Passes: 100%|██████████| 5/5 [00:05<00:00,  1.07s/ passes]\n",
      "Converting Frontend ==> MIL Ops: 100%|██████████| 1000/1000 [00:02<00:00, 333.33 ops/s]\n",
      "Running MIL optimization passes: 100%|██████████| 18/18 [00:03<00:00,  5.22 passes/s]\n",
      "Translating MIL ==> MLModel Ops: 100%|██████████| 1669/1669 [00:05<00:00, 317.45 ops/s]\n"
     ]
    },
    {
     "name": "stdout",
     "output_type": "stream",
     "text": [
      "44675560\n",
      "379\n",
      "178750261\n",
      "ResNet152V2\n"
     ]
    },
    {
     "name": "stderr",
     "output_type": "stream",
     "text": [
      "Running TensorFlow Graph Passes: 100%|██████████| 5/5 [00:06<00:00,  1.38s/ passes]\n",
      "Converting Frontend ==> MIL Ops: 100%|██████████| 1493/1493 [00:06<00:00, 216.95 ops/s]\n",
      "Running MIL optimization passes: 100%|██████████| 18/18 [00:07<00:00,  2.40 passes/s]\n",
      "Translating MIL ==> MLModel Ops: 100%|██████████| 2485/2485 [00:07<00:00, 346.69 ops/s]\n"
     ]
    },
    {
     "name": "stdout",
     "output_type": "stream",
     "text": [
      "60380648\n",
      "566\n",
      "241594369\n",
      "Xception\n"
     ]
    },
    {
     "name": "stderr",
     "output_type": "stream",
     "text": [
      "Running TensorFlow Graph Passes: 100%|██████████| 5/5 [00:03<00:00,  1.36 passes/s]\n",
      "Converting Frontend ==> MIL Ops: 100%|██████████| 408/408 [00:00<00:00, 408.02 ops/s] \n",
      "Running MIL optimization passes: 100%|██████████| 18/18 [00:01<00:00, 17.30 passes/s]\n",
      "Translating MIL ==> MLModel Ops: 100%|██████████| 835/835 [00:02<00:00, 313.65 ops/s] \n"
     ]
    },
    {
     "name": "stdout",
     "output_type": "stream",
     "text": [
      "22910480\n",
      "134\n",
      "91665693\n"
     ]
    },
    {
     "data": {
      "text/html": [
       "<div>\n",
       "<style scoped>\n",
       "    .dataframe tbody tr th:only-of-type {\n",
       "        vertical-align: middle;\n",
       "    }\n",
       "\n",
       "    .dataframe tbody tr th {\n",
       "        vertical-align: top;\n",
       "    }\n",
       "\n",
       "    .dataframe thead th {\n",
       "        text-align: right;\n",
       "    }\n",
       "</style>\n",
       "<table border=\"1\" class=\"dataframe\">\n",
       "  <thead>\n",
       "    <tr style=\"text-align: right;\">\n",
       "      <th></th>\n",
       "      <th>Model name</th>\n",
       "      <th>Parameters</th>\n",
       "      <th>Layers</th>\n",
       "      <th>MLModel size</th>\n",
       "    </tr>\n",
       "  </thead>\n",
       "  <tbody>\n",
       "    <tr>\n",
       "      <th>0</th>\n",
       "      <td>VGG16</td>\n",
       "      <td>138357544</td>\n",
       "      <td>23</td>\n",
       "      <td>553434241</td>\n",
       "    </tr>\n",
       "    <tr>\n",
       "      <th>1</th>\n",
       "      <td>VGG19</td>\n",
       "      <td>143667240</td>\n",
       "      <td>26</td>\n",
       "      <td>574673712</td>\n",
       "    </tr>\n",
       "    <tr>\n",
       "      <th>2</th>\n",
       "      <td>DenseNet121</td>\n",
       "      <td>8062504</td>\n",
       "      <td>429</td>\n",
       "      <td>32306254</td>\n",
       "    </tr>\n",
       "    <tr>\n",
       "      <th>3</th>\n",
       "      <td>DenseNet169</td>\n",
       "      <td>14307880</td>\n",
       "      <td>597</td>\n",
       "      <td>57310776</td>\n",
       "    </tr>\n",
       "    <tr>\n",
       "      <th>4</th>\n",
       "      <td>DenseNet201</td>\n",
       "      <td>20242984</td>\n",
       "      <td>709</td>\n",
       "      <td>81066328</td>\n",
       "    </tr>\n",
       "    <tr>\n",
       "      <th>5</th>\n",
       "      <td>EfficientNetB0</td>\n",
       "      <td>5330571</td>\n",
       "      <td>240</td>\n",
       "      <td>21369086</td>\n",
       "    </tr>\n",
       "    <tr>\n",
       "      <th>6</th>\n",
       "      <td>EfficientNetB1</td>\n",
       "      <td>7856239</td>\n",
       "      <td>342</td>\n",
       "      <td>31491179</td>\n",
       "    </tr>\n",
       "    <tr>\n",
       "      <th>7</th>\n",
       "      <td>EfficientNetB2</td>\n",
       "      <td>9177569</td>\n",
       "      <td>342</td>\n",
       "      <td>36776509</td>\n",
       "    </tr>\n",
       "    <tr>\n",
       "      <th>8</th>\n",
       "      <td>EfficientNetB3</td>\n",
       "      <td>12320535</td>\n",
       "      <td>387</td>\n",
       "      <td>49357064</td>\n",
       "    </tr>\n",
       "    <tr>\n",
       "      <th>9</th>\n",
       "      <td>EfficientNetB4</td>\n",
       "      <td>19466823</td>\n",
       "      <td>477</td>\n",
       "      <td>77959441</td>\n",
       "    </tr>\n",
       "    <tr>\n",
       "      <th>10</th>\n",
       "      <td>EfficientNetB5</td>\n",
       "      <td>30562527</td>\n",
       "      <td>579</td>\n",
       "      <td>122361839</td>\n",
       "    </tr>\n",
       "    <tr>\n",
       "      <th>11</th>\n",
       "      <td>EfficientNetB6</td>\n",
       "      <td>43265143</td>\n",
       "      <td>669</td>\n",
       "      <td>173189944</td>\n",
       "    </tr>\n",
       "    <tr>\n",
       "      <th>12</th>\n",
       "      <td>EfficientNetB7</td>\n",
       "      <td>66658687</td>\n",
       "      <td>816</td>\n",
       "      <td>266792481</td>\n",
       "    </tr>\n",
       "    <tr>\n",
       "      <th>13</th>\n",
       "      <td>Inception-ResNet v2</td>\n",
       "      <td>55873736</td>\n",
       "      <td>782</td>\n",
       "      <td>223726118</td>\n",
       "    </tr>\n",
       "    <tr>\n",
       "      <th>14</th>\n",
       "      <td>Inception v3</td>\n",
       "      <td>23851784</td>\n",
       "      <td>313</td>\n",
       "      <td>95511761</td>\n",
       "    </tr>\n",
       "    <tr>\n",
       "      <th>15</th>\n",
       "      <td>MobileNet</td>\n",
       "      <td>4253864</td>\n",
       "      <td>93</td>\n",
       "      <td>17042770</td>\n",
       "    </tr>\n",
       "    <tr>\n",
       "      <th>16</th>\n",
       "      <td>MobileNetV2</td>\n",
       "      <td>3538984</td>\n",
       "      <td>157</td>\n",
       "      <td>14200542</td>\n",
       "    </tr>\n",
       "    <tr>\n",
       "      <th>17</th>\n",
       "      <td>NASNet</td>\n",
       "      <td>88949818</td>\n",
       "      <td>1041</td>\n",
       "      <td>355987198</td>\n",
       "    </tr>\n",
       "    <tr>\n",
       "      <th>18</th>\n",
       "      <td>Mobile NASNet</td>\n",
       "      <td>5326716</td>\n",
       "      <td>771</td>\n",
       "      <td>21444223</td>\n",
       "    </tr>\n",
       "    <tr>\n",
       "      <th>19</th>\n",
       "      <td>ResNet50</td>\n",
       "      <td>25636712</td>\n",
       "      <td>177</td>\n",
       "      <td>102462558</td>\n",
       "    </tr>\n",
       "    <tr>\n",
       "      <th>20</th>\n",
       "      <td>ResNet101</td>\n",
       "      <td>44707176</td>\n",
       "      <td>347</td>\n",
       "      <td>178661637</td>\n",
       "    </tr>\n",
       "    <tr>\n",
       "      <th>21</th>\n",
       "      <td>ResNet152</td>\n",
       "      <td>60419944</td>\n",
       "      <td>517</td>\n",
       "      <td>241442061</td>\n",
       "    </tr>\n",
       "    <tr>\n",
       "      <th>22</th>\n",
       "      <td>ResNet50V2</td>\n",
       "      <td>25613800</td>\n",
       "      <td>192</td>\n",
       "      <td>102479000</td>\n",
       "    </tr>\n",
       "    <tr>\n",
       "      <th>23</th>\n",
       "      <td>ResNet101V2</td>\n",
       "      <td>44675560</td>\n",
       "      <td>379</td>\n",
       "      <td>178750261</td>\n",
       "    </tr>\n",
       "    <tr>\n",
       "      <th>24</th>\n",
       "      <td>ResNet152V2</td>\n",
       "      <td>60380648</td>\n",
       "      <td>566</td>\n",
       "      <td>241594369</td>\n",
       "    </tr>\n",
       "    <tr>\n",
       "      <th>25</th>\n",
       "      <td>Xception</td>\n",
       "      <td>22910480</td>\n",
       "      <td>134</td>\n",
       "      <td>91665693</td>\n",
       "    </tr>\n",
       "  </tbody>\n",
       "</table>\n",
       "</div>"
      ],
      "text/plain": [
       "             Model name  Parameters  Layers  MLModel size\n",
       "0                 VGG16   138357544      23     553434241\n",
       "1                 VGG19   143667240      26     574673712\n",
       "2           DenseNet121     8062504     429      32306254\n",
       "3           DenseNet169    14307880     597      57310776\n",
       "4           DenseNet201    20242984     709      81066328\n",
       "5        EfficientNetB0     5330571     240      21369086\n",
       "6        EfficientNetB1     7856239     342      31491179\n",
       "7        EfficientNetB2     9177569     342      36776509\n",
       "8        EfficientNetB3    12320535     387      49357064\n",
       "9        EfficientNetB4    19466823     477      77959441\n",
       "10       EfficientNetB5    30562527     579     122361839\n",
       "11       EfficientNetB6    43265143     669     173189944\n",
       "12       EfficientNetB7    66658687     816     266792481\n",
       "13  Inception-ResNet v2    55873736     782     223726118\n",
       "14         Inception v3    23851784     313      95511761\n",
       "15            MobileNet     4253864      93      17042770\n",
       "16          MobileNetV2     3538984     157      14200542\n",
       "17               NASNet    88949818    1041     355987198\n",
       "18        Mobile NASNet     5326716     771      21444223\n",
       "19             ResNet50    25636712     177     102462558\n",
       "20            ResNet101    44707176     347     178661637\n",
       "21            ResNet152    60419944     517     241442061\n",
       "22           ResNet50V2    25613800     192     102479000\n",
       "23          ResNet101V2    44675560     379     178750261\n",
       "24          ResNet152V2    60380648     566     241594369\n",
       "25             Xception    22910480     134      91665693"
      ]
     },
     "execution_count": 7,
     "metadata": {},
     "output_type": "execute_result"
    }
   ],
   "source": [
    "model_sizes = pd.DataFrame()\n",
    "\n",
    "for model_name, model in models.items():\n",
    "    print(model_name)\n",
    "    image_input = ct.ImageType()\n",
    "    \n",
    "    mlmodel = ct.convert(model, inputs=[image_input])\n",
    "    \n",
    "    mlmodel_filename = \"./{}.mlmodel\".format(model_name)\n",
    "    mlmodel.save(mlmodel_filename)\n",
    "    \n",
    "    mlmodel_size = os.path.getsize(mlmodel_filename)\n",
    "    \n",
    "    model_size_ = pd.DataFrame({\n",
    "        \"Model name\": [model_name],\n",
    "        \"Parameters\": [model.count_params()],\n",
    "        \"Layers\": [len(model.layers)],\n",
    "        \"MLModel size\": [mlmodel_size]\n",
    "    })\n",
    "        \n",
    "    model_sizes = pd.concat([model_sizes, model_size_], ignore_index=True)\n",
    "    \n",
    "model_sizes"
   ]
  },
  {
   "cell_type": "code",
   "execution_count": 12,
   "id": "99c59d61-cb92-440b-9fb5-d2dac9437441",
   "metadata": {},
   "outputs": [],
   "source": [
    "model_sizes[\"MLModel size [MB]\"] = model_sizes[\"MLModel size\"] / 1000**2"
   ]
  },
  {
   "cell_type": "code",
   "execution_count": 13,
   "id": "0d3143b3-2287-47dc-8bc0-fc763b44e323",
   "metadata": {},
   "outputs": [
    {
     "data": {
      "text/html": [
       "<div>\n",
       "<style scoped>\n",
       "    .dataframe tbody tr th:only-of-type {\n",
       "        vertical-align: middle;\n",
       "    }\n",
       "\n",
       "    .dataframe tbody tr th {\n",
       "        vertical-align: top;\n",
       "    }\n",
       "\n",
       "    .dataframe thead th {\n",
       "        text-align: right;\n",
       "    }\n",
       "</style>\n",
       "<table border=\"1\" class=\"dataframe\">\n",
       "  <thead>\n",
       "    <tr style=\"text-align: right;\">\n",
       "      <th></th>\n",
       "      <th>Model name</th>\n",
       "      <th>Parameters</th>\n",
       "      <th>Layers</th>\n",
       "      <th>MLModel size</th>\n",
       "      <th>MLModel size [MB]</th>\n",
       "    </tr>\n",
       "  </thead>\n",
       "  <tbody>\n",
       "    <tr>\n",
       "      <th>0</th>\n",
       "      <td>VGG16</td>\n",
       "      <td>138357544</td>\n",
       "      <td>23</td>\n",
       "      <td>553434241</td>\n",
       "      <td>553.434241</td>\n",
       "    </tr>\n",
       "    <tr>\n",
       "      <th>1</th>\n",
       "      <td>VGG19</td>\n",
       "      <td>143667240</td>\n",
       "      <td>26</td>\n",
       "      <td>574673712</td>\n",
       "      <td>574.673712</td>\n",
       "    </tr>\n",
       "    <tr>\n",
       "      <th>2</th>\n",
       "      <td>DenseNet121</td>\n",
       "      <td>8062504</td>\n",
       "      <td>429</td>\n",
       "      <td>32306254</td>\n",
       "      <td>32.306254</td>\n",
       "    </tr>\n",
       "    <tr>\n",
       "      <th>3</th>\n",
       "      <td>DenseNet169</td>\n",
       "      <td>14307880</td>\n",
       "      <td>597</td>\n",
       "      <td>57310776</td>\n",
       "      <td>57.310776</td>\n",
       "    </tr>\n",
       "    <tr>\n",
       "      <th>4</th>\n",
       "      <td>DenseNet201</td>\n",
       "      <td>20242984</td>\n",
       "      <td>709</td>\n",
       "      <td>81066328</td>\n",
       "      <td>81.066328</td>\n",
       "    </tr>\n",
       "    <tr>\n",
       "      <th>5</th>\n",
       "      <td>EfficientNetB0</td>\n",
       "      <td>5330571</td>\n",
       "      <td>240</td>\n",
       "      <td>21369086</td>\n",
       "      <td>21.369086</td>\n",
       "    </tr>\n",
       "    <tr>\n",
       "      <th>6</th>\n",
       "      <td>EfficientNetB1</td>\n",
       "      <td>7856239</td>\n",
       "      <td>342</td>\n",
       "      <td>31491179</td>\n",
       "      <td>31.491179</td>\n",
       "    </tr>\n",
       "    <tr>\n",
       "      <th>7</th>\n",
       "      <td>EfficientNetB2</td>\n",
       "      <td>9177569</td>\n",
       "      <td>342</td>\n",
       "      <td>36776509</td>\n",
       "      <td>36.776509</td>\n",
       "    </tr>\n",
       "    <tr>\n",
       "      <th>8</th>\n",
       "      <td>EfficientNetB3</td>\n",
       "      <td>12320535</td>\n",
       "      <td>387</td>\n",
       "      <td>49357064</td>\n",
       "      <td>49.357064</td>\n",
       "    </tr>\n",
       "    <tr>\n",
       "      <th>9</th>\n",
       "      <td>EfficientNetB4</td>\n",
       "      <td>19466823</td>\n",
       "      <td>477</td>\n",
       "      <td>77959441</td>\n",
       "      <td>77.959441</td>\n",
       "    </tr>\n",
       "    <tr>\n",
       "      <th>10</th>\n",
       "      <td>EfficientNetB5</td>\n",
       "      <td>30562527</td>\n",
       "      <td>579</td>\n",
       "      <td>122361839</td>\n",
       "      <td>122.361839</td>\n",
       "    </tr>\n",
       "    <tr>\n",
       "      <th>11</th>\n",
       "      <td>EfficientNetB6</td>\n",
       "      <td>43265143</td>\n",
       "      <td>669</td>\n",
       "      <td>173189944</td>\n",
       "      <td>173.189944</td>\n",
       "    </tr>\n",
       "    <tr>\n",
       "      <th>12</th>\n",
       "      <td>EfficientNetB7</td>\n",
       "      <td>66658687</td>\n",
       "      <td>816</td>\n",
       "      <td>266792481</td>\n",
       "      <td>266.792481</td>\n",
       "    </tr>\n",
       "    <tr>\n",
       "      <th>13</th>\n",
       "      <td>Inception-ResNet v2</td>\n",
       "      <td>55873736</td>\n",
       "      <td>782</td>\n",
       "      <td>223726118</td>\n",
       "      <td>223.726118</td>\n",
       "    </tr>\n",
       "    <tr>\n",
       "      <th>14</th>\n",
       "      <td>Inception v3</td>\n",
       "      <td>23851784</td>\n",
       "      <td>313</td>\n",
       "      <td>95511761</td>\n",
       "      <td>95.511761</td>\n",
       "    </tr>\n",
       "    <tr>\n",
       "      <th>15</th>\n",
       "      <td>MobileNet</td>\n",
       "      <td>4253864</td>\n",
       "      <td>93</td>\n",
       "      <td>17042770</td>\n",
       "      <td>17.042770</td>\n",
       "    </tr>\n",
       "    <tr>\n",
       "      <th>16</th>\n",
       "      <td>MobileNetV2</td>\n",
       "      <td>3538984</td>\n",
       "      <td>157</td>\n",
       "      <td>14200542</td>\n",
       "      <td>14.200542</td>\n",
       "    </tr>\n",
       "    <tr>\n",
       "      <th>17</th>\n",
       "      <td>NASNet</td>\n",
       "      <td>88949818</td>\n",
       "      <td>1041</td>\n",
       "      <td>355987198</td>\n",
       "      <td>355.987198</td>\n",
       "    </tr>\n",
       "    <tr>\n",
       "      <th>18</th>\n",
       "      <td>Mobile NASNet</td>\n",
       "      <td>5326716</td>\n",
       "      <td>771</td>\n",
       "      <td>21444223</td>\n",
       "      <td>21.444223</td>\n",
       "    </tr>\n",
       "    <tr>\n",
       "      <th>19</th>\n",
       "      <td>ResNet50</td>\n",
       "      <td>25636712</td>\n",
       "      <td>177</td>\n",
       "      <td>102462558</td>\n",
       "      <td>102.462558</td>\n",
       "    </tr>\n",
       "    <tr>\n",
       "      <th>20</th>\n",
       "      <td>ResNet101</td>\n",
       "      <td>44707176</td>\n",
       "      <td>347</td>\n",
       "      <td>178661637</td>\n",
       "      <td>178.661637</td>\n",
       "    </tr>\n",
       "    <tr>\n",
       "      <th>21</th>\n",
       "      <td>ResNet152</td>\n",
       "      <td>60419944</td>\n",
       "      <td>517</td>\n",
       "      <td>241442061</td>\n",
       "      <td>241.442061</td>\n",
       "    </tr>\n",
       "    <tr>\n",
       "      <th>22</th>\n",
       "      <td>ResNet50V2</td>\n",
       "      <td>25613800</td>\n",
       "      <td>192</td>\n",
       "      <td>102479000</td>\n",
       "      <td>102.479000</td>\n",
       "    </tr>\n",
       "    <tr>\n",
       "      <th>23</th>\n",
       "      <td>ResNet101V2</td>\n",
       "      <td>44675560</td>\n",
       "      <td>379</td>\n",
       "      <td>178750261</td>\n",
       "      <td>178.750261</td>\n",
       "    </tr>\n",
       "    <tr>\n",
       "      <th>24</th>\n",
       "      <td>ResNet152V2</td>\n",
       "      <td>60380648</td>\n",
       "      <td>566</td>\n",
       "      <td>241594369</td>\n",
       "      <td>241.594369</td>\n",
       "    </tr>\n",
       "    <tr>\n",
       "      <th>25</th>\n",
       "      <td>Xception</td>\n",
       "      <td>22910480</td>\n",
       "      <td>134</td>\n",
       "      <td>91665693</td>\n",
       "      <td>91.665693</td>\n",
       "    </tr>\n",
       "  </tbody>\n",
       "</table>\n",
       "</div>"
      ],
      "text/plain": [
       "             Model name  Parameters  Layers  MLModel size  MLModel size [MB]\n",
       "0                 VGG16   138357544      23     553434241         553.434241\n",
       "1                 VGG19   143667240      26     574673712         574.673712\n",
       "2           DenseNet121     8062504     429      32306254          32.306254\n",
       "3           DenseNet169    14307880     597      57310776          57.310776\n",
       "4           DenseNet201    20242984     709      81066328          81.066328\n",
       "5        EfficientNetB0     5330571     240      21369086          21.369086\n",
       "6        EfficientNetB1     7856239     342      31491179          31.491179\n",
       "7        EfficientNetB2     9177569     342      36776509          36.776509\n",
       "8        EfficientNetB3    12320535     387      49357064          49.357064\n",
       "9        EfficientNetB4    19466823     477      77959441          77.959441\n",
       "10       EfficientNetB5    30562527     579     122361839         122.361839\n",
       "11       EfficientNetB6    43265143     669     173189944         173.189944\n",
       "12       EfficientNetB7    66658687     816     266792481         266.792481\n",
       "13  Inception-ResNet v2    55873736     782     223726118         223.726118\n",
       "14         Inception v3    23851784     313      95511761          95.511761\n",
       "15            MobileNet     4253864      93      17042770          17.042770\n",
       "16          MobileNetV2     3538984     157      14200542          14.200542\n",
       "17               NASNet    88949818    1041     355987198         355.987198\n",
       "18        Mobile NASNet     5326716     771      21444223          21.444223\n",
       "19             ResNet50    25636712     177     102462558         102.462558\n",
       "20            ResNet101    44707176     347     178661637         178.661637\n",
       "21            ResNet152    60419944     517     241442061         241.442061\n",
       "22           ResNet50V2    25613800     192     102479000         102.479000\n",
       "23          ResNet101V2    44675560     379     178750261         178.750261\n",
       "24          ResNet152V2    60380648     566     241594369         241.594369\n",
       "25             Xception    22910480     134      91665693          91.665693"
      ]
     },
     "execution_count": 13,
     "metadata": {},
     "output_type": "execute_result"
    }
   ],
   "source": [
    "model_sizes"
   ]
  },
  {
   "cell_type": "code",
   "execution_count": 14,
   "id": "b735e593-1f0a-4e5c-b43f-09fbc8e541d5",
   "metadata": {},
   "outputs": [],
   "source": [
    "model_sizes.to_csv(\"./MLModel_size.csv\")"
   ]
  },
  {
   "cell_type": "code",
   "execution_count": null,
   "id": "ee1920db-d97e-4577-804c-b28ad1f685b5",
   "metadata": {},
   "outputs": [],
   "source": []
  }
 ],
 "metadata": {
  "kernelspec": {
   "display_name": "Python 3",
   "language": "python",
   "name": "python3"
  },
  "language_info": {
   "codemirror_mode": {
    "name": "ipython",
    "version": 3
   },
   "file_extension": ".py",
   "mimetype": "text/x-python",
   "name": "python",
   "nbconvert_exporter": "python",
   "pygments_lexer": "ipython3",
   "version": "3.6.13"
  }
 },
 "nbformat": 4,
 "nbformat_minor": 5
}
